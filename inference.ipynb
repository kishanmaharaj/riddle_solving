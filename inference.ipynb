{
 "cells": [
  {
   "cell_type": "code",
   "execution_count": 1,
   "id": "3e84b98d",
   "metadata": {},
   "outputs": [],
   "source": [
    "import numpy as np\n",
    "import torch\n",
    "from tqdm import tqdm"
   ]
  },
  {
   "cell_type": "code",
   "execution_count": 2,
   "id": "a8d2921f",
   "metadata": {},
   "outputs": [],
   "source": [
    "%%capture\n",
    "from transformers import AutoTokenizer, AutoModelForMultipleChoice\n",
    "\n",
    "model = AutoModelForMultipleChoice.from_pretrained(\"danlou/albert-xxlarge-v2-finetuned-csqa\")\n",
    "\n",
    "tokenizer = AutoTokenizer.from_pretrained(\"danlou/albert-xxlarge-v2-finetuned-csqa\")"
   ]
  },
  {
   "cell_type": "code",
   "execution_count": 3,
   "id": "df7d6e39",
   "metadata": {},
   "outputs": [],
   "source": [
    "import logging\n",
    "logging.basicConfig(filename='inferece_albert.log', filemode='w', format='%(asctime)s : %(name)s : %(levelname)s : %(message)s')\n",
    "logger=logging.getLogger() \n",
    "logger.setLevel(logging.INFO)"
   ]
  },
  {
   "cell_type": "code",
   "execution_count": 4,
   "id": "5445e8d4",
   "metadata": {},
   "outputs": [],
   "source": [
    "device = \"cuda:1\" if torch.cuda.is_available() else \"cpu\"\n",
    "logger.info(\"Current Device: \" + device)"
   ]
  },
  {
   "cell_type": "code",
   "execution_count": 9,
   "id": "d867c196",
   "metadata": {},
   "outputs": [],
   "source": [
    "_ = model.to(device)"
   ]
  },
  {
   "cell_type": "code",
   "execution_count": 6,
   "id": "07125368",
   "metadata": {},
   "outputs": [],
   "source": [
    "def inference(Question, Choices):\n",
    "    \n",
    "#     choices = riddle['choices']    \n",
    "    \n",
    "    # create k(number of options)  duplicates of the question\n",
    "    choices = Choices.split(\",\")\n",
    "    option_count = len(choices)\n",
    "    \n",
    "    if option_count < 2:\n",
    "        return \"More than 2 options should be provided\"\n",
    "#     questions = ((riddle['question'] + \"~~\") * option_count).split(\"~~\")[:-1]\n",
    "\n",
    "    questions = ((Question + \"~~\") * option_count).split(\"~~\")[:-1]\n",
    "\n",
    "\n",
    "    encoding = tokenizer(questions, choices, return_tensors=\"pt\", padding=True).to(device)\n",
    "    outputs = model(**{k: v.unsqueeze(0) for k, v in encoding.items()})\n",
    "    probability = torch.softmax(outputs.logits, dim=1) \n",
    "    prediction = torch.argmax(probability, dim=1).item()\n",
    "    probability = probability.tolist()[0]\n",
    "\n",
    "    proba_dist = \" \"\n",
    "    \n",
    "    for i in range(len(probability)):\n",
    "        proba_dist = proba_dist + choices[i]+ \":\"\n",
    "        proba_dist = proba_dist + str(round(probability[i], 4))\n",
    "        \n",
    "        if i < len(probability)-1:\n",
    "            proba_dist = proba_dist + \" | \"\n",
    "        \n",
    "    complete_output = \"Prediction --> \"+ str(prediction) + \"  || \" +\"Probability Distribution --> \" + proba_dist    \n",
    "    \n",
    "    logger.info(\"Question:: \"+ Question+\"    \"+ complete_output)\n",
    "\n",
    "    return  complete_output# \"Probability Distribution --> \" + proba_dist\n",
    "\n"
   ]
  },
  {
   "cell_type": "code",
   "execution_count": 84,
   "id": "b18d08ff",
   "metadata": {},
   "outputs": [],
   "source": [
    "riddle = {\n",
    "    'question': 'A man is incarcerated in prison, and as his punishment he has to carry a one tonne bag of sand backwards and forwards across a field the size of a football pitch.  What is the one thing he can put in it to make it lighter?'\n",
    ", 'choices': ['throw', 'bit', 'gallon', 'mouse', 'hole']}\n"
   ]
  },
  {
   "cell_type": "code",
   "execution_count": 11,
   "id": "bc0c93e4",
   "metadata": {},
   "outputs": [],
   "source": [
    "question = 'A man is incarcerated in prison, and as his punishment he has to carry a one tonne bag of sand backwards and forwards across a field the size of a football pitch.  What is the one thing he can put in it to make it lighter?'\n",
    "choices =  'throw ,  bit ,  gallon, mouse , hole'\n",
    "            \n",
    "            "
   ]
  },
  {
   "cell_type": "code",
   "execution_count": 12,
   "id": "dcd019b3",
   "metadata": {},
   "outputs": [
    {
     "data": {
      "text/plain": [
       "'Prediction --> 4  || Probability Distribution -->  throw :0.1484 |   bit :0.0632 |   gallon:0.0838 |  mouse :0.2529 |  hole:0.4517'"
      ]
     },
     "execution_count": 12,
     "metadata": {},
     "output_type": "execute_result"
    }
   ],
   "source": [
    "inference(question, choices)"
   ]
  },
  {
   "cell_type": "code",
   "execution_count": 7,
   "id": "2e765e69",
   "metadata": {},
   "outputs": [],
   "source": [
    "import gradio as gr"
   ]
  },
  {
   "cell_type": "code",
   "execution_count": 34,
   "id": "1dc8d767",
   "metadata": {},
   "outputs": [
    {
     "data": {
      "text/plain": [
       "'A man is incarcerated in prison, and as his punishment he has to carry a one tonne bag of sand backwards and forwards across a field the size of a football pitch.  What is the one thing he can put in it to make it lighter?'"
      ]
     },
     "execution_count": 34,
     "metadata": {},
     "output_type": "execute_result"
    }
   ],
   "source": [
    "question"
   ]
  },
  {
   "cell_type": "code",
   "execution_count": 8,
   "id": "2f28dab1",
   "metadata": {},
   "outputs": [
    {
     "name": "stdout",
     "output_type": "stream",
     "text": [
      "IMPORTANT: You are using gradio version 3.0, however version 3.14.0 is available, please upgrade.\n",
      "--------\n",
      "Running on local URL:  http://127.0.0.1:7860/\n",
      "Running on public URL: https://b59b9b5d3ee6a2c4.gradio.app\n",
      "\n",
      "This share link expires in 72 hours. For free permanent hosting, check out Spaces (https://www.huggingface.co/spaces)\n"
     ]
    },
    {
     "data": {
      "text/html": [
       "\n",
       "        <iframe\n",
       "            width=\"900\"\n",
       "            height=\"500\"\n",
       "            src=\"https://b59b9b5d3ee6a2c4.gradio.app\"\n",
       "            frameborder=\"0\"\n",
       "            allowfullscreen\n",
       "            \n",
       "        ></iframe>\n",
       "        "
      ],
      "text/plain": [
       "<IPython.lib.display.IFrame at 0x7f91e50244c0>"
      ]
     },
     "metadata": {},
     "output_type": "display_data"
    },
    {
     "data": {
      "text/plain": [
       "(<gradio.routes.App at 0x7f91e58ecb50>,\n",
       " 'http://127.0.0.1:7860/',\n",
       " 'https://b59b9b5d3ee6a2c4.gradio.app')"
      ]
     },
     "execution_count": 8,
     "metadata": {},
     "output_type": "execute_result"
    }
   ],
   "source": [
    "demo = gr.Interface(fn=inference,\n",
    "                    inputs=[\"text\", \"text\"],\n",
    "                    outputs=\"text\",\n",
    "                    title=\"Riddle Solver\",\n",
    "                    description=\"Question: must be in string,  Choices: Options seperated by comma\")\n",
    "\n",
    "demo.launch(share=True) "
   ]
  },
  {
   "cell_type": "code",
   "execution_count": null,
   "id": "0ad973c3",
   "metadata": {},
   "outputs": [],
   "source": []
  },
  {
   "cell_type": "code",
   "execution_count": null,
   "id": "e6685d2f",
   "metadata": {},
   "outputs": [],
   "source": []
  },
  {
   "cell_type": "code",
   "execution_count": null,
   "id": "8e2a497c",
   "metadata": {},
   "outputs": [],
   "source": []
  },
  {
   "cell_type": "code",
   "execution_count": 11,
   "id": "1ad8b6cb",
   "metadata": {},
   "outputs": [
    {
     "name": "stdout",
     "output_type": "stream",
     "text": [
      "Looking in indexes: https://pypi.org/simple, https://pypi.ngc.nvidia.com\n",
      "Collecting gradio==3.0\n",
      "  Downloading gradio-3.0-py3-none-any.whl (5.6 MB)\n",
      "\u001b[K     |████████████████████████████████| 5.6 MB 16.6 MB/s eta 0:00:01\n",
      "\u001b[?25hRequirement already satisfied: numpy in /opt/conda/lib/python3.8/site-packages (from gradio==3.0) (1.22.4)\n",
      "Collecting paramiko\n",
      "  Downloading paramiko-3.1.0-py3-none-any.whl (211 kB)\n",
      "\u001b[K     |████████████████████████████████| 211 kB 117.6 MB/s eta 0:00:01\n",
      "\u001b[?25hCollecting pycryptodome\n",
      "  Downloading pycryptodome-3.17-cp35-abi3-manylinux_2_17_x86_64.manylinux2014_x86_64.whl (2.1 MB)\n",
      "\u001b[K     |████████████████████████████████| 2.1 MB 111.6 MB/s eta 0:00:01\n",
      "\u001b[?25hRequirement already satisfied: pydub in /opt/conda/lib/python3.8/site-packages (from gradio==3.0) (0.25.1)\n",
      "Requirement already satisfied: Jinja2 in /opt/conda/lib/python3.8/site-packages (from gradio==3.0) (3.1.2)\n",
      "Requirement already satisfied: requests in /opt/conda/lib/python3.8/site-packages (from gradio==3.0) (2.27.1)\n",
      "Requirement already satisfied: pandas in /opt/conda/lib/python3.8/site-packages (from gradio==3.0) (1.4.3)\n",
      "Collecting analytics-python\n",
      "  Downloading analytics_python-1.4.post1-py2.py3-none-any.whl (23 kB)\n",
      "Requirement already satisfied: fastapi in /opt/conda/lib/python3.8/site-packages (from gradio==3.0) (0.95.1)\n",
      "Requirement already satisfied: markdown-it-py[linkify,plugins] in /opt/conda/lib/python3.8/site-packages (from gradio==3.0) (2.1.0)\n",
      "Requirement already satisfied: orjson in /opt/conda/lib/python3.8/site-packages (from gradio==3.0) (3.8.11)\n",
      "Requirement already satisfied: aiohttp in /opt/conda/lib/python3.8/site-packages (from gradio==3.0) (3.8.1)\n",
      "Requirement already satisfied: python-multipart in /opt/conda/lib/python3.8/site-packages (from gradio==3.0) (0.0.6)\n",
      "Requirement already satisfied: pillow in /opt/conda/lib/python3.8/site-packages (from gradio==3.0) (9.0.1)\n",
      "Requirement already satisfied: matplotlib in /opt/conda/lib/python3.8/site-packages (from gradio==3.0) (3.5.2)\n",
      "Requirement already satisfied: ffmpy in /opt/conda/lib/python3.8/site-packages (from gradio==3.0) (0.3.0)\n",
      "Requirement already satisfied: uvicorn in /opt/conda/lib/python3.8/site-packages (from gradio==3.0) (0.22.0)\n",
      "Requirement already satisfied: charset-normalizer<3.0,>=2.0 in /opt/conda/lib/python3.8/site-packages (from aiohttp->gradio==3.0) (2.0.12)\n",
      "Requirement already satisfied: attrs>=17.3.0 in /opt/conda/lib/python3.8/site-packages (from aiohttp->gradio==3.0) (21.4.0)\n",
      "Requirement already satisfied: aiosignal>=1.1.2 in /opt/conda/lib/python3.8/site-packages (from aiohttp->gradio==3.0) (1.2.0)\n",
      "Requirement already satisfied: multidict<7.0,>=4.5 in /opt/conda/lib/python3.8/site-packages (from aiohttp->gradio==3.0) (6.0.2)\n",
      "Requirement already satisfied: yarl<2.0,>=1.0 in /opt/conda/lib/python3.8/site-packages (from aiohttp->gradio==3.0) (1.8.1)\n",
      "Requirement already satisfied: frozenlist>=1.1.1 in /opt/conda/lib/python3.8/site-packages (from aiohttp->gradio==3.0) (1.3.1)\n",
      "Requirement already satisfied: async-timeout<5.0,>=4.0.0a3 in /opt/conda/lib/python3.8/site-packages (from aiohttp->gradio==3.0) (4.0.2)\n",
      "Requirement already satisfied: idna>=2.0 in /opt/conda/lib/python3.8/site-packages (from yarl<2.0,>=1.0->aiohttp->gradio==3.0) (2.10)\n",
      "Collecting monotonic>=1.5\n",
      "  Downloading monotonic-1.6-py2.py3-none-any.whl (8.2 kB)\n",
      "Requirement already satisfied: python-dateutil>2.1 in /opt/conda/lib/python3.8/site-packages (from analytics-python->gradio==3.0) (2.8.2)\n",
      "Collecting backoff==1.10.0\n",
      "  Downloading backoff-1.10.0-py2.py3-none-any.whl (31 kB)\n",
      "Requirement already satisfied: six>=1.5 in /opt/conda/lib/python3.8/site-packages (from analytics-python->gradio==3.0) (1.16.0)\n",
      "Requirement already satisfied: certifi>=2017.4.17 in /opt/conda/lib/python3.8/site-packages (from requests->gradio==3.0) (2022.6.15)\n",
      "Requirement already satisfied: urllib3<1.27,>=1.21.1 in /opt/conda/lib/python3.8/site-packages (from requests->gradio==3.0) (1.26.12)\n",
      "Requirement already satisfied: pydantic!=1.7,!=1.7.1,!=1.7.2,!=1.7.3,!=1.8,!=1.8.1,<2.0.0,>=1.6.2 in /opt/conda/lib/python3.8/site-packages (from fastapi->gradio==3.0) (1.8.2)\n",
      "Requirement already satisfied: starlette<0.27.0,>=0.26.1 in /opt/conda/lib/python3.8/site-packages (from fastapi->gradio==3.0) (0.26.1)\n",
      "Requirement already satisfied: typing-extensions>=3.7.4.3 in /opt/conda/lib/python3.8/site-packages (from pydantic!=1.7,!=1.7.1,!=1.7.2,!=1.7.3,!=1.8,!=1.8.1,<2.0.0,>=1.6.2->fastapi->gradio==3.0) (4.3.0)\n",
      "Requirement already satisfied: anyio<5,>=3.4.0 in /opt/conda/lib/python3.8/site-packages (from starlette<0.27.0,>=0.26.1->fastapi->gradio==3.0) (3.6.2)\n",
      "Requirement already satisfied: sniffio>=1.1 in /opt/conda/lib/python3.8/site-packages (from anyio<5,>=3.4.0->starlette<0.27.0,>=0.26.1->fastapi->gradio==3.0) (1.3.0)\n",
      "Requirement already satisfied: MarkupSafe>=2.0 in /opt/conda/lib/python3.8/site-packages (from Jinja2->gradio==3.0) (2.1.1)\n",
      "Requirement already satisfied: mdurl~=0.1 in /opt/conda/lib/python3.8/site-packages (from markdown-it-py[linkify,plugins]->gradio==3.0) (0.1.1)\n",
      "Requirement already satisfied: mdit-py-plugins in /opt/conda/lib/python3.8/site-packages (from markdown-it-py[linkify,plugins]->gradio==3.0) (0.3.0)\n",
      "Requirement already satisfied: linkify-it-py~=1.0 in /opt/conda/lib/python3.8/site-packages (from markdown-it-py[linkify,plugins]->gradio==3.0) (1.0.3)\n",
      "Requirement already satisfied: uc-micro-py in /opt/conda/lib/python3.8/site-packages (from linkify-it-py~=1.0->markdown-it-py[linkify,plugins]->gradio==3.0) (1.0.1)\n",
      "Requirement already satisfied: cycler>=0.10 in /opt/conda/lib/python3.8/site-packages (from matplotlib->gradio==3.0) (0.11.0)\n",
      "Requirement already satisfied: kiwisolver>=1.0.1 in /opt/conda/lib/python3.8/site-packages (from matplotlib->gradio==3.0) (1.4.3)\n",
      "Requirement already satisfied: pyparsing>=2.2.1 in /opt/conda/lib/python3.8/site-packages (from matplotlib->gradio==3.0) (3.0.9)\n",
      "Requirement already satisfied: packaging>=20.0 in /opt/conda/lib/python3.8/site-packages (from matplotlib->gradio==3.0) (21.3)\n",
      "Requirement already satisfied: fonttools>=4.22.0 in /opt/conda/lib/python3.8/site-packages (from matplotlib->gradio==3.0) (4.33.3)\n",
      "Requirement already satisfied: pytz>=2020.1 in /opt/conda/lib/python3.8/site-packages (from pandas->gradio==3.0) (2022.1)\n",
      "Requirement already satisfied: cryptography>=3.3 in /opt/conda/lib/python3.8/site-packages (from paramiko->gradio==3.0) (37.0.2)\n",
      "Collecting bcrypt>=3.2\n",
      "  Downloading bcrypt-4.0.1-cp36-abi3-manylinux_2_28_x86_64.whl (593 kB)\n",
      "\u001b[K     |████████████████████████████████| 593 kB 118.8 MB/s eta 0:00:01\n",
      "\u001b[?25hCollecting pynacl>=1.5\n",
      "  Downloading PyNaCl-1.5.0-cp36-abi3-manylinux_2_17_x86_64.manylinux2014_x86_64.manylinux_2_24_x86_64.whl (856 kB)\n",
      "\u001b[K     |████████████████████████████████| 856 kB 21.4 MB/s eta 0:00:01\n",
      "\u001b[?25hRequirement already satisfied: cffi>=1.12 in /opt/conda/lib/python3.8/site-packages (from cryptography>=3.3->paramiko->gradio==3.0) (1.15.1)\n",
      "Requirement already satisfied: pycparser in /opt/conda/lib/python3.8/site-packages (from cffi>=1.12->cryptography>=3.3->paramiko->gradio==3.0) (2.21)\n",
      "Requirement already satisfied: h11>=0.8 in /opt/conda/lib/python3.8/site-packages (from uvicorn->gradio==3.0) (0.9.0)\n",
      "Requirement already satisfied: click>=7.0 in /opt/conda/lib/python3.8/site-packages (from uvicorn->gradio==3.0) (8.0.4)\n",
      "Installing collected packages: pynacl, monotonic, bcrypt, backoff, pycryptodome, paramiko, analytics-python, gradio\n",
      "  Attempting uninstall: gradio\n",
      "    Found existing installation: gradio 3.28.0\n",
      "    Uninstalling gradio-3.28.0:\n",
      "      Successfully uninstalled gradio-3.28.0\n",
      "Successfully installed analytics-python-1.4.post1 backoff-1.10.0 bcrypt-4.0.1 gradio-3.0 monotonic-1.6 paramiko-3.1.0 pycryptodome-3.17 pynacl-1.5.0\n",
      "\u001b[33mWARNING: Running pip as the 'root' user can result in broken permissions and conflicting behaviour with the system package manager. It is recommended to use a virtual environment instead: https://pip.pypa.io/warnings/venv\u001b[0m\n"
     ]
    }
   ],
   "source": [
    "!pip install gradio==3.0"
   ]
  },
  {
   "cell_type": "code",
   "execution_count": null,
   "id": "d46605f1",
   "metadata": {},
   "outputs": [],
   "source": []
  }
 ],
 "metadata": {
  "kernelspec": {
   "display_name": "Python 3 (ipykernel)",
   "language": "python",
   "name": "python3"
  },
  "language_info": {
   "codemirror_mode": {
    "name": "ipython",
    "version": 3
   },
   "file_extension": ".py",
   "mimetype": "text/x-python",
   "name": "python",
   "nbconvert_exporter": "python",
   "pygments_lexer": "ipython3",
   "version": "3.8.13"
  }
 },
 "nbformat": 4,
 "nbformat_minor": 5
}
